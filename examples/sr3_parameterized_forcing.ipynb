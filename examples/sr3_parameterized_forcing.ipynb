{
 "cells": [
  {
   "cell_type": "markdown",
   "metadata": {},
   "source": [
    "# Parametrized library functions: Lorenz with parameterized forcing\n",
    "\n",
    "This notebook performs SR3 with parameter estimation on a Lorenz system with parameterized forcing. The optimization performs a joint inference of the terms in the dynamics (the sparse coefficients) and the parameters in the parameterized forcing."
   ]
  },
  {
   "cell_type": "code",
   "execution_count": 1,
   "metadata": {},
   "outputs": [],
   "source": [
    "import sys\n",
    "import numpy as np\n",
    "from scipy.integrate import odeint\n",
    "\n",
    "import pysindy as ps\n",
    "sys.path.insert(0, '..')\n",
    "from utils import *\n",
    "from sindy_forcing import SINDyForcing\n",
    "from sr3_forcing import SR3Forcing\n",
    "\n",
    "import matplotlib.pyplot as plt\n",
    "from matplotlib import cm\n",
    "from mpl_toolkits.mplot3d import Axes3D\n",
    "%matplotlib inline"
   ]
  },
  {
   "cell_type": "markdown",
   "metadata": {},
   "source": [
    "## Generate training data"
   ]
  },
  {
   "cell_type": "code",
   "execution_count": 2,
   "metadata": {},
   "outputs": [],
   "source": [
    "np.random.seed(1)\n",
    "\n",
    "# time grid set up\n",
    "ts = 0.0\n",
    "te = 10.0\n",
    "dt = .005\n",
    "t = np.arange(ts,te,dt)\n",
    "\n",
    "# set up forcing\n",
    "forcing_strength = 20.\n",
    "param_alpha = np.array([.8,3.])\n",
    "forcing = lambda t : forcing_strength*np.tanh(param_alpha[0]*t-param_alpha[1])\n",
    "\n",
    "# ode set up\n",
    "lorenz = lambda z,t : [10*(z[1] - z[0]), z[0]*(28 - z[2]) - z[1], z[0]*z[1] - 8/3*z[2]]\n",
    "lorenz_forced = lambda z,t : [10*(z[1] - z[0]) + forcing(t), z[0]*(28 - z[2]) - z[1], z[0]*z[1] - 8/3*z[2]]\n",
    "\n",
    "# generate training data\n",
    "n_trajectories = 1\n",
    "x0 = [8,-7,27]\n",
    "x = odeint(lorenz_forced, x0, t)\n",
    "x_unforced = odeint(lorenz, x0, t)\n",
    "x_noisy = add_noise(x, std=1e-3)\n",
    "\n",
    "# true coefficient matrix\n",
    "true_coefficients = np.zeros((10,3))\n",
    "true_coefficients[1,0] = -10\n",
    "true_coefficients[2,0] = 10\n",
    "true_coefficients[1,1] = 28\n",
    "true_coefficients[2,1] = -1\n",
    "true_coefficients[6,1] = -1\n",
    "true_coefficients[3,2] = -8/3\n",
    "true_coefficients[5,2] = 1"
   ]
  },
  {
   "cell_type": "code",
   "execution_count": 3,
   "metadata": {},
   "outputs": [
    {
     "data": {
      "text/plain": [
       "(-0.4997500000000001,\n",
       " 10.494750000000002,\n",
       " -21.89605830243818,\n",
       " 21.993132729040422)"
      ]
     },
     "execution_count": 3,
     "metadata": {},
     "output_type": "execute_result"
    },
    {
     "data": {
      "image/png": "[encoded data removed]",
      "text/plain": [
       "<Figure size 288x144 with 1 Axes>"
      ]
     },
     "metadata": {
      "needs_background": "light"
     },
     "output_type": "display_data"
    }
   ],
   "source": [
    "plt.figure(figsize=(4,2))\n",
    "plt.plot(t, forcing(t), linewidth=2, color='#004AA8')\n",
    "plt.plot(t, x_noisy[:,0], 'k', linewidth=2)\n",
    "plt.axis('off')\n",
    "# plt.savefig('lorenz_forced1.pdf', dpi=600)"
   ]
  },
  {
   "cell_type": "markdown",
   "metadata": {},
   "source": [
    "## Fit SINDy model without the forcing function"
   ]
  },
  {
   "cell_type": "code",
   "execution_count": 4,
   "metadata": {},
   "outputs": [],
   "source": [
    "threshold = 0.1\n",
    "nu = 0.1\n",
    "library = ps.PolynomialLibrary(degree=3)"
   ]
  },
  {
   "cell_type": "code",
   "execution_count": 5,
   "metadata": {},
   "outputs": [
    {
     "name": "stdout",
     "output_type": "stream",
     "text": [
      "x' = 37.230 1 + 7.176 x + -1.464 y + -4.994 z + -1.467 x^2 + 1.636 x y + -0.596 x z + -0.400 y^2 + 0.586 y z + 0.222 z^2\n",
      "y' = 28.040 x + -1.003 y + -1.003 x z\n",
      "z' = -2.659 z + 1.005 x y\n"
     ]
    }
   ],
   "source": [
    "sr3_optimizer = ps.SR3(threshold=threshold, nu=nu)\n",
    "diff = ps.FiniteDifference(drop_endpoints=True)\n",
    "model_noForcing = ps.SINDy(optimizer=sr3_optimizer, feature_library=library, feature_names=['x','y','z'],\n",
    "                          differentiation_method=diff)\n",
    "model_noForcing.fit(x_noisy, t=dt, unbias=False)\n",
    "model_noForcing.print()"
   ]
  },
  {
   "cell_type": "code",
   "execution_count": 6,
   "metadata": {},
   "outputs": [
    {
     "data": {
      "text/plain": [
       "(-99.95, 2098.95, -19.1102548894084, 35.527912856200075)"
      ]
     },
     "execution_count": 6,
     "metadata": {},
     "output_type": "execute_result"
    },
    {
     "data": {
      "image/png": "[encoded data removed]",
      "text/plain": [
       "<Figure size 432x288 with 1 Axes>"
      ]
     },
     "metadata": {
      "needs_background": "light"
     },
     "output_type": "display_data"
    },
    {
     "data": {
      "image/png": "[encoded data removed]",
      "text/plain": [
       "<Figure size 216x72 with 1 Axes>"
      ]
     },
     "metadata": {
      "needs_background": "light"
     },
     "output_type": "display_data"
    },
    {
     "data": {
      "image/png": "[encoded data removed]",
      "text/plain": [
       "<Figure size 216x72 with 1 Axes>"
      ]
     },
     "metadata": {
      "needs_background": "light"
     },
     "output_type": "display_data"
    }
   ],
   "source": [
    "clims = [-30,30]\n",
    "cmap = cm.GnBu\n",
    "\n",
    "plt.figure()\n",
    "plt.imshow(sigma_plot_sparsity(model_noForcing.coefficients().T), interpolation='nearest', cmap=cmap)\n",
    "plt.clim(clims)\n",
    "plt.axis('off')\n",
    "# plt.savefig('forcing_coefficients_noAlpha.pdf', dpi=600)\n",
    "\n",
    "# simulate training trajectory\n",
    "x_simulate_noforcing = model_noForcing.simulate(x_noisy[0], t)\n",
    "plt.figure(figsize=(3,1))\n",
    "plt.plot(x_noisy[:,0], '#888888', linewidth=2)\n",
    "plt.plot(x_simulate_noforcing[:,0], linewidth=2)\n",
    "plt.axis('off')\n",
    "\n",
    "# simulate test trajectory\n",
    "x0_test = np.array([10,10,-10])\n",
    "x_simulate_true = odeint(lorenz_forced, x0_test, t)\n",
    "x_simulate_noforcing = model_noForcing.simulate(x0_test, t)\n",
    "\n",
    "plt.figure(figsize=(3,1))\n",
    "plt.plot(x_simulate_true[:,0], '#888888', linewidth=2)\n",
    "plt.plot(x_simulate_noforcing[:,0], linewidth=2)\n",
    "plt.axis('off')\n",
    "# plt.savefig('forcing_sim_noAlpha.pdf', dpi=600)"
   ]
  },
  {
   "cell_type": "markdown",
   "metadata": {},
   "source": [
    "## Fit SINDy model with parameterized forcing"
   ]
  },
  {
   "cell_type": "code",
   "execution_count": 7,
   "metadata": {},
   "outputs": [
    {
     "name": "stderr",
     "output_type": "stream",
     "text": [
      "/Users/kpchamp/opt/anaconda3/envs/py3/lib/python3.7/site-packages/sklearn/base.py:197: FutureWarning: From version 0.24, get_params will raise an AttributeError if a parameter cannot be retrieved as an instance attribute. Previously it would return None.\n",
      "  FutureWarning)\n"
     ]
    },
    {
     "data": {
      "text/plain": [
       "SINDyForcing(differentiation_method=<pysindy.differentiation.finite_difference.FiniteDifference object at 0x11c7d85d0>,\n",
       "             discrete_time=False,\n",
       "             feature_library=PolynomialLibrary(degree=3, include_bias=True,\n",
       "                                               include_interaction=True,\n",
       "                                               interaction_only=False,\n",
       "                                               order='C'),\n",
       "             feature_names=['x', 'y', 'z'], forcing_functions=None,\n",
       "             n_forcing_params=None, n_jobs=1)"
      ]
     },
     "execution_count": 7,
     "metadata": {},
     "output_type": "execute_result"
    }
   ],
   "source": [
    "forcing_functions = [lambda forcing_params,t : np.tanh(forcing_params[0]*t - forcing_params[1])]\n",
    "\n",
    "model = SINDyForcing(2, forcing_functions, feature_library=library, feature_names=['x','y','z'],\n",
    "                     differentiation_method=diff, threshold=threshold, nu=nu)\n",
    "model.fit(x_noisy, t=dt, unbias=False, forcing_input=t[1:-1], initial_forcing_params=np.array([5,10]))"
   ]
  },
  {
   "cell_type": "code",
   "execution_count": 8,
   "metadata": {},
   "outputs": [
    {
     "data": {
      "text/plain": [
       "(-99.95, 2098.95, -17.95026780084313, 25.602504834130084)"
      ]
     },
     "execution_count": 8,
     "metadata": {},
     "output_type": "execute_result"
    },
    {
     "data": {
      "image/png": "[encoded data removed]",
      "text/plain": [
       "<Figure size 432x288 with 1 Axes>"
      ]
     },
     "metadata": {
      "needs_background": "light"
     },
     "output_type": "display_data"
    },
    {
     "data": {
      "image/png": "[encoded data removed]",
      "text/plain": [
       "<Figure size 216x72 with 1 Axes>"
      ]
     },
     "metadata": {
      "needs_background": "light"
     },
     "output_type": "display_data"
    },
    {
     "data": {
      "image/png": "[encoded data removed]",
      "text/plain": [
       "<Figure size 216x72 with 1 Axes>"
      ]
     },
     "metadata": {
      "needs_background": "light"
     },
     "output_type": "display_data"
    },
    {
     "data": {
      "image/png": "[encoded data removed]",
      "text/plain": [
       "<Figure size 216x72 with 1 Axes>"
      ]
     },
     "metadata": {
      "needs_background": "light"
     },
     "output_type": "display_data"
    }
   ],
   "source": [
    "clims = [-30,30]\n",
    "cmap = cm.GnBu\n",
    "\n",
    "plt.figure()\n",
    "plt.imshow(sigma_plot_sparsity(model.coefficients().T), interpolation='nearest', cmap=cmap)\n",
    "plt.clim(clims)\n",
    "plt.axis('off')\n",
    "# plt.savefig('forcing_coefficients.pdf', dpi=600)\n",
    "\n",
    "x_simulate = model.simulate(x0, t, t)\n",
    "plt.figure(figsize=(3,1))\n",
    "plt.plot(x_noisy[:,0], '#888888', linewidth=2)\n",
    "plt.plot(x_simulate[:,0], linewidth=2)\n",
    "plt.axis('off')\n",
    "\n",
    "plt.figure(figsize=(3,1))\n",
    "plt.plot(forcing(t)/forcing_strength, '#888888', linewidth=2)\n",
    "plt.plot(forcing_functions[0](model.model.steps[1][1].forcing_params_,t), '--', linewidth=3, color='#004AA8')\n",
    "plt.axis('off')\n",
    "# plt.savefig('forcing_term.pdf', dpi=600)\n",
    "\n",
    "x_simulate = model.simulate(x0_test, t, t)\n",
    "plt.figure(figsize=(3,1))\n",
    "plt.plot(x_simulate_true[:,0], '#888888', linewidth=2)\n",
    "plt.plot(x_simulate[:,0], linewidth=2)\n",
    "plt.axis('off')\n",
    "# plt.savefig('forcing_sim.pdf', dpi=600)"
   ]
  },
  {
   "cell_type": "code",
   "execution_count": null,
   "metadata": {},
   "outputs": [],
   "source": []
  }
 ],
 "metadata": {
  "kernelspec": {
   "display_name": "Python 3",
   "language": "python",
   "name": "python3"
  },
  "language_info": {
   "codemirror_mode": {
    "name": "ipython",
    "version": 3
   },
   "file_extension": ".py",
   "mimetype": "text/x-python",
   "name": "python",
   "nbconvert_exporter": "python",
   "pygments_lexer": "ipython3",
   "version": "3.7.6"
  },
  "toc": {
   "base_numbering": 1,
   "nav_menu": {},
   "number_sections": true,
   "sideBar": true,
   "skip_h1_title": false,
   "title_cell": "Table of Contents",
   "title_sidebar": "Contents",
   "toc_cell": false,
   "toc_position": {},
   "toc_section_display": true,
   "toc_window_display": false
  },
  "varInspector": {
   "cols": {
    "lenName": 16,
    "lenType": 16,
    "lenVar": 40
   },
   "kernels_config": {
    "python": {
     "delete_cmd_postfix": "",
     "delete_cmd_prefix": "del ",
     "library": "var_list.py",
     "varRefreshCmd": "print(var_dic_list())"
    },
    "r": {
     "delete_cmd_postfix": ") ",
     "delete_cmd_prefix": "rm(",
     "library": "var_list.r",
     "varRefreshCmd": "cat(var_dic_list()) "
    }
   },
   "types_to_exclude": [
    "module",
    "function",
    "builtin_function_or_method",
    "instance",
    "_Feature"
   ],
   "window_display": false
  }
 },
 "nbformat": 4,
 "nbformat_minor": 2
}
